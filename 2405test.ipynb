{
 "cells": [
  {
   "cell_type": "code",
   "execution_count": 1,
   "id": "aa25366e",
   "metadata": {},
   "outputs": [
    {
     "name": "stdout",
     "output_type": "stream",
     "text": [
      "1\n",
      "10 50 50 50\n",
      "10 8 9\n",
      "6 8 9\n",
      "1 1 1\n",
      "1 0 1\n",
      "1 0 0\n",
      "7 9 8\n",
      "4 10 2\n",
      "1 6 10\n",
      "9 1 4\n",
      "5 2 3\n"
     ]
    },
    {
     "ename": "KeyboardInterrupt",
     "evalue": "",
     "output_type": "error",
     "traceback": [
      "\u001b[1;31m---------------------------------------------------------------------------\u001b[0m",
      "\u001b[1;31mKeyboardInterrupt\u001b[0m                         Traceback (most recent call last)",
      "Input \u001b[1;32mIn [1]\u001b[0m, in \u001b[0;36m<cell line: 12>\u001b[1;34m()\u001b[0m\n\u001b[0;32m     15\u001b[0m m \u001b[38;5;241m=\u001b[39m [\u001b[38;5;241m3\u001b[39m]\u001b[38;5;241m*\u001b[39mN\n\u001b[0;32m     16\u001b[0m max_prod \u001b[38;5;241m=\u001b[39m \u001b[38;5;241m0\u001b[39m\n\u001b[1;32m---> 17\u001b[0m \u001b[43mback\u001b[49m\u001b[43m(\u001b[49m\u001b[38;5;241;43m0\u001b[39;49m\u001b[43m,\u001b[49m\u001b[38;5;241;43m0\u001b[39;49m\u001b[43m,\u001b[49m\u001b[38;5;241;43m0\u001b[39;49m\u001b[43m,\u001b[49m\u001b[38;5;241;43m0\u001b[39;49m\u001b[43m)\u001b[49m\n\u001b[0;32m     18\u001b[0m \u001b[38;5;28mprint\u001b[39m(\u001b[38;5;124mf\u001b[39m\u001b[38;5;124m'\u001b[39m\u001b[38;5;124m#\u001b[39m\u001b[38;5;132;01m{\u001b[39;00mtc\u001b[38;5;132;01m}\u001b[39;00m\u001b[38;5;124m \u001b[39m\u001b[38;5;132;01m{\u001b[39;00mmax_prod\u001b[38;5;132;01m}\u001b[39;00m\u001b[38;5;124m'\u001b[39m)\n",
      "Input \u001b[1;32mIn [1]\u001b[0m, in \u001b[0;36mback\u001b[1;34m(red, blue, yellow, cnt)\u001b[0m\n\u001b[0;32m      7\u001b[0m \u001b[38;5;28;01mif\u001b[39;00m m[n]\u001b[38;5;241m>\u001b[39m\u001b[38;5;241m0\u001b[39m:\n\u001b[0;32m      8\u001b[0m     m[n]\u001b[38;5;241m-\u001b[39m\u001b[38;5;241m=\u001b[39m\u001b[38;5;241m1\u001b[39m\n\u001b[1;32m----> 9\u001b[0m     \u001b[43mback\u001b[49m\u001b[43m(\u001b[49m\u001b[43mred\u001b[49m\u001b[38;5;241;43m+\u001b[39;49m\u001b[43mneed_light\u001b[49m\u001b[43m[\u001b[49m\u001b[43mn\u001b[49m\u001b[43m]\u001b[49m\u001b[43m[\u001b[49m\u001b[38;5;241;43m0\u001b[39;49m\u001b[43m]\u001b[49m\u001b[43m,\u001b[49m\u001b[43mblue\u001b[49m\u001b[38;5;241;43m+\u001b[39;49m\u001b[43mneed_light\u001b[49m\u001b[43m[\u001b[49m\u001b[43mn\u001b[49m\u001b[43m]\u001b[49m\u001b[43m[\u001b[49m\u001b[38;5;241;43m1\u001b[39;49m\u001b[43m]\u001b[49m\u001b[43m,\u001b[49m\u001b[43myellow\u001b[49m\u001b[38;5;241;43m+\u001b[39;49m\u001b[43mneed_light\u001b[49m\u001b[43m[\u001b[49m\u001b[43mn\u001b[49m\u001b[43m]\u001b[49m\u001b[43m[\u001b[49m\u001b[38;5;241;43m2\u001b[39;49m\u001b[43m]\u001b[49m\u001b[43m,\u001b[49m\u001b[43mcnt\u001b[49m\u001b[38;5;241;43m+\u001b[39;49m\u001b[38;5;241;43m1\u001b[39;49m\u001b[43m)\u001b[49m\n\u001b[0;32m     10\u001b[0m     m[n]\u001b[38;5;241m+\u001b[39m\u001b[38;5;241m=\u001b[39m\u001b[38;5;241m1\u001b[39m\n",
      "Input \u001b[1;32mIn [1]\u001b[0m, in \u001b[0;36mback\u001b[1;34m(red, blue, yellow, cnt)\u001b[0m\n\u001b[0;32m      7\u001b[0m \u001b[38;5;28;01mif\u001b[39;00m m[n]\u001b[38;5;241m>\u001b[39m\u001b[38;5;241m0\u001b[39m:\n\u001b[0;32m      8\u001b[0m     m[n]\u001b[38;5;241m-\u001b[39m\u001b[38;5;241m=\u001b[39m\u001b[38;5;241m1\u001b[39m\n\u001b[1;32m----> 9\u001b[0m     \u001b[43mback\u001b[49m\u001b[43m(\u001b[49m\u001b[43mred\u001b[49m\u001b[38;5;241;43m+\u001b[39;49m\u001b[43mneed_light\u001b[49m\u001b[43m[\u001b[49m\u001b[43mn\u001b[49m\u001b[43m]\u001b[49m\u001b[43m[\u001b[49m\u001b[38;5;241;43m0\u001b[39;49m\u001b[43m]\u001b[49m\u001b[43m,\u001b[49m\u001b[43mblue\u001b[49m\u001b[38;5;241;43m+\u001b[39;49m\u001b[43mneed_light\u001b[49m\u001b[43m[\u001b[49m\u001b[43mn\u001b[49m\u001b[43m]\u001b[49m\u001b[43m[\u001b[49m\u001b[38;5;241;43m1\u001b[39;49m\u001b[43m]\u001b[49m\u001b[43m,\u001b[49m\u001b[43myellow\u001b[49m\u001b[38;5;241;43m+\u001b[39;49m\u001b[43mneed_light\u001b[49m\u001b[43m[\u001b[49m\u001b[43mn\u001b[49m\u001b[43m]\u001b[49m\u001b[43m[\u001b[49m\u001b[38;5;241;43m2\u001b[39;49m\u001b[43m]\u001b[49m\u001b[43m,\u001b[49m\u001b[43mcnt\u001b[49m\u001b[38;5;241;43m+\u001b[39;49m\u001b[38;5;241;43m1\u001b[39;49m\u001b[43m)\u001b[49m\n\u001b[0;32m     10\u001b[0m     m[n]\u001b[38;5;241m+\u001b[39m\u001b[38;5;241m=\u001b[39m\u001b[38;5;241m1\u001b[39m\n",
      "    \u001b[1;31m[... skipping similar frames: back at line 9 (13 times)]\u001b[0m\n",
      "Input \u001b[1;32mIn [1]\u001b[0m, in \u001b[0;36mback\u001b[1;34m(red, blue, yellow, cnt)\u001b[0m\n\u001b[0;32m      7\u001b[0m \u001b[38;5;28;01mif\u001b[39;00m m[n]\u001b[38;5;241m>\u001b[39m\u001b[38;5;241m0\u001b[39m:\n\u001b[0;32m      8\u001b[0m     m[n]\u001b[38;5;241m-\u001b[39m\u001b[38;5;241m=\u001b[39m\u001b[38;5;241m1\u001b[39m\n\u001b[1;32m----> 9\u001b[0m     back(\u001b[43mred\u001b[49m\u001b[38;5;241;43m+\u001b[39;49m\u001b[43mneed_light\u001b[49m\u001b[43m[\u001b[49m\u001b[43mn\u001b[49m\u001b[43m]\u001b[49m\u001b[43m[\u001b[49m\u001b[38;5;241;43m0\u001b[39;49m\u001b[43m]\u001b[49m,blue\u001b[38;5;241m+\u001b[39mneed_light[n][\u001b[38;5;241m1\u001b[39m],yellow\u001b[38;5;241m+\u001b[39mneed_light[n][\u001b[38;5;241m2\u001b[39m],cnt\u001b[38;5;241m+\u001b[39m\u001b[38;5;241m1\u001b[39m)\n\u001b[0;32m     10\u001b[0m     m[n]\u001b[38;5;241m+\u001b[39m\u001b[38;5;241m=\u001b[39m\u001b[38;5;241m1\u001b[39m\n",
      "\u001b[1;31mKeyboardInterrupt\u001b[0m: "
     ]
    }
   ],
   "source": [
    "def back(red,blue,yellow,cnt):\n",
    "    global A,B,C,max_prod\n",
    "    if red>A or blue>B or yellow>C:  \n",
    "        max_prod = max(max_prod,cnt-1) #사용 조명 개수 넘어갔으니까 cnt-1\n",
    "        return\n",
    "    for n in range(N):\n",
    "        if m[n]>0:\n",
    "            m[n]-=1\n",
    "            back(red+need_light[n][0],blue+need_light[n][1],yellow+need_light[n][2],cnt+1)\n",
    "            m[n]+=1\n",
    "    \n",
    "for tc in range(1,int(input())+1):\n",
    "    N,A,B,C = map(int,input().split())\n",
    "    need_light = [list(map(int,input().split())) for _ in range(N)]\n",
    "    m = [3]*N\n",
    "    max_prod = 0\n",
    "    back(0,0,0,0)\n",
    "    print(f'#{tc} {max_prod}')\n",
    "    "
   ]
  },
  {
   "cell_type": "code",
   "execution_count": 6,
   "id": "7585e681",
   "metadata": {},
   "outputs": [
    {
     "name": "stdout",
     "output_type": "stream",
     "text": [
      "1\n",
      "10 50 50 50\n",
      "10 8 9\n",
      "6 8 9\n",
      "1 1 1\n",
      "1 0 1\n",
      "1 0 0\n",
      "7 9 8\n",
      "4 10 2\n",
      "1 6 10\n",
      "9 1 4\n",
      "5 2 3\n",
      "#1 17\n"
     ]
    }
   ],
   "source": [
    "def is_valid(red, blue, yellow):\n",
    "    return 0 <= red <= A and 0 <= blue <= B and 0 <= yellow <= C\n",
    "\n",
    "def back(red, blue, yellow, cnt):\n",
    "    global max_prod\n",
    "    if not is_valid(red, blue, yellow):\n",
    "        max_prod = max(max_prod, cnt - 1)\n",
    "        return\n",
    "    if (red, blue, yellow, cnt) in dp:\n",
    "        return\n",
    "    dp[(red, blue, yellow, cnt)] = True\n",
    "\n",
    "    for n in range(N):\n",
    "        if m[n] > 0:\n",
    "            m[n] -= 1\n",
    "            back(red + need_light[n][0], blue + need_light[n][1], yellow + need_light[n][2], cnt + 1)\n",
    "            m[n] += 1\n",
    "\n",
    "for tc in range(1, int(input()) + 1):\n",
    "    N, A, B, C = map(int, input().split())\n",
    "    need_light = [list(map(int, input().split())) for _ in range(N)]\n",
    "    m = [3] * N\n",
    "    max_prod = 0\n",
    "    dp = {}\n",
    "    back(0, 0, 0, 0)\n",
    "    print(f'#{tc} {max_prod}')"
   ]
  },
  {
   "cell_type": "code",
   "execution_count": 7,
   "id": "8b934dce",
   "metadata": {},
   "outputs": [
    {
     "name": "stdout",
     "output_type": "stream",
     "text": [
      "1\n",
      "2 10 10 10\n",
      "4 2 2\n",
      "1 1 3\n",
      "#1 4\n"
     ]
    }
   ],
   "source": [
    "def is_valid(red, blue, yellow): #사용한 전구 개수가 주어진 전구 개수보다 작은지 확인\n",
    "    return 0 <= red <= A and 0 <= blue <= B and 0 <= yellow <= C\n",
    "\n",
    "def back(red, blue, yellow, cnt): #사용한 빨강, 파랑, 노랑전구 개수, 생산한 상품 개수\n",
    "    global max_prod #최대 생산 개수\n",
    "    if not is_valid(red, blue, yellow): #만약에 사용한 전구 개수가 주어진 전구 개수보다 많다면\n",
    "        max_prod = max(max_prod, cnt - 1) # 최대 생산량 비교 후 return / 사용전구 개수가 오버 됐으므로 마지막 생산품은 빼야함\n",
    "        return\n",
    "    if (red, blue, yellow, cnt) in dp: #만약에 사용한 전구 개수와 생산한 상품 개수 조합이 이미 있으면\n",
    "        return #return\n",
    "    dp[(red, blue, yellow, cnt)] = True #dp리스트에 없으면서 사용 전구 개수가 주어진 전구 개수 이하일때 dp에 해당 조합을 true로 저장\n",
    "\n",
    "    for n in range(N): #모델 개수만큼 반복\n",
    "        if m[n] > 0: #만약에 해당 모델의 생산 가능 개수가 남아 있다면\n",
    "            m[n] -= 1 #-1 한 후에\n",
    "            back(red + need_light[n][0], blue + need_light[n][1], yellow + need_light[n][2], cnt + 1) #사용 전구 개수 + 해주고 생산한 상품 개수 +1 한후에 백트래킹\n",
    "            m[n] += 1 \n",
    "\n",
    "for tc in range(1, int(input()) + 1):\n",
    "    N, A, B, C = map(int, input().split())\n",
    "    need_light = [list(map(int, input().split())) for _ in range(N)]\n",
    "    m = [3] * N\n",
    "    max_prod = 0\n",
    "    dp = {} #이미 나온 조합 가지치기 위한 딕셔너리 생성 (조합이 한번 나오면 저장)\n",
    "    back(0, 0, 0, 0)\n",
    "    print(f'#{tc} {max_prod}')"
   ]
  },
  {
   "cell_type": "markdown",
   "id": "c7f1b56d",
   "metadata": {},
   "source": [
    "하ㅏㅏㅏㅏㅏㅏㅏ 열받네 진짜 개열받네\n",
    "\n",
    "첫번째가 내가 짠 코드 -> 저기서 시간 초과 난다고 사용한 조합 나오면 return하는거 만들어 볼라 했는데 별 짓거리 다 하다가 실패함 왜 위에처럼 할걸 생각 못햇지\n",
    "왜냐면 몰랐으니까!!!!!!\n",
    "\n",
    "ㅋㅋ 하진짜 \n",
    "그래도 21개 맞았으니까 장족의 발전? ㅋㅋ 이라고 생각하자\n",
    "왜 시간초과 나는지도 알았으니까 담번엔 풀 수 잇 겟 지?  ㅡ,,,,ㅡ 열받아"
   ]
  }
 ],
 "metadata": {
  "kernelspec": {
   "display_name": "Python 3 (ipykernel)",
   "language": "python",
   "name": "python3"
  },
  "language_info": {
   "codemirror_mode": {
    "name": "ipython",
    "version": 3
   },
   "file_extension": ".py",
   "mimetype": "text/x-python",
   "name": "python",
   "nbconvert_exporter": "python",
   "pygments_lexer": "ipython3",
   "version": "3.9.12"
  }
 },
 "nbformat": 4,
 "nbformat_minor": 5
}
